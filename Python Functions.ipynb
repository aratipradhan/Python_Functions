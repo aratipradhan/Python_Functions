{
 "cells": [
  {
   "cell_type": "markdown",
   "id": "3dbd1010-4e11-4cd6-a336-134d77abb9c6",
   "metadata": {},
   "source": [
    "# Functions in python"
   ]
  },
  {
   "cell_type": "raw",
   "id": "ffa4105e-e6b6-4f6d-8b65-1cef6377ed98",
   "metadata": {},
   "source": [
    "- Inbuild functions -- print(), type(), sqrt() etc\n",
    "- User defiend functions\n",
    "- Function is collections of statement\n",
    "- 2 main property of function is -- define the function and calling the function\n",
    "- fuction always define with def & function always declares as ()\n",
    "    different  between variable and function || a - variable || b() - function"
   ]
  },
  {
   "cell_type": "code",
   "execution_count": 1,
   "id": "e619e8d1-6c26-4dd6-86e9-13c9950afdb9",
   "metadata": {},
   "outputs": [],
   "source": [
    "def greet():\n",
    "    prinnt('Hello')\n",
    "    print('Good Morning')\n",
    "# When we run the code we haven't got any output    "
   ]
  },
  {
   "cell_type": "code",
   "execution_count": 2,
   "id": "18428089-1f21-4cae-a32b-31964907e7da",
   "metadata": {},
   "outputs": [
    {
     "name": "stdout",
     "output_type": "stream",
     "text": [
      "Hello World\n",
      "Data Science and AI\n"
     ]
    }
   ],
   "source": [
    "def greet(): # Function defination\n",
    "    print('Hello World')\n",
    "    print('Data Science and AI')\n",
    "\n",
    "greet() # Call the function to get the output"
   ]
  },
  {
   "cell_type": "code",
   "execution_count": 4,
   "id": "819a788a-73e7-486b-be71-a81f36c8e79d",
   "metadata": {},
   "outputs": [
    {
     "name": "stdout",
     "output_type": "stream",
     "text": [
      "I'm K Arati Pradhan\n",
      "I'm K Arati Pradhan\n"
     ]
    }
   ],
   "source": [
    "# if we want to print one message multiple times instade of writing multiple times we can create a function and simply call  it.\n",
    "def fun():\n",
    "    print(\"I'm K Arati Pradhan\")\n",
    "fun()#if you need call multiple times \n",
    "\n",
    "\n",
    "def fun():\n",
    "    print(\"I'm K Arati Pradhan\")\n",
    "fun()#if you need call multiple times \n"
   ]
  },
  {
   "cell_type": "code",
   "execution_count": 5,
   "id": "7b99d47e-15a3-4ec3-866e-11b47b4af43d",
   "metadata": {},
   "outputs": [
    {
     "name": "stdout",
     "output_type": "stream",
     "text": [
      "I'm K Arati Pradhan\n",
      "I'm K Arati Pradhan\n",
      "I'm K Arati Pradhan\n"
     ]
    }
   ],
   "source": [
    "# here we no need to write codes multiple times we can simply call the function\n",
    "def fun():\n",
    "    print(\"I'm K Arati Pradhan\")\n",
    "fun()\n",
    "fun()\n",
    "fun()"
   ]
  },
  {
   "cell_type": "markdown",
   "id": "ff53c136-451f-4b99-815b-d016acfd4c4b",
   "metadata": {},
   "source": [
    "# FUNCTION WITH ARGUEMENTS"
   ]
  },
  {
   "cell_type": "markdown",
   "id": "6d4c78e4-4449-4c69-9106-b75a264bcc70",
   "metadata": {},
   "source": [
    "# TYPE OF ARGUMENTS --> formal argument & actual argument "
   ]
  },
  {
   "cell_type": "code",
   "execution_count": 13,
   "id": "cf84043d-28d2-4247-bd67-8f14d25013b7",
   "metadata": {},
   "outputs": [
    {
     "name": "stdout",
     "output_type": "stream",
     "text": [
      "The sum of {a} and {b} is : 11\n"
     ]
    }
   ],
   "source": [
    "def add(a,b): # a & b called formal argument\n",
    "    c = a+b\n",
    "    print(\"The sum of {a} and {b} is :\",c)\n",
    "    \n",
    "add(5,6) #5 and 6 we called as actual argument"
   ]
  },
  {
   "cell_type": "code",
   "execution_count": 12,
   "id": "ecab57b5-61bc-4f1f-9139-ca1f94b1bd18",
   "metadata": {},
   "outputs": [
    {
     "name": "stdout",
     "output_type": "stream",
     "text": [
      "18\n"
     ]
    }
   ],
   "source": [
    "def add(a,b,d): # a & b called formal argument\n",
    "    c = a+b+d\n",
    "    print(c)\n",
    "    \n",
    "add(5,6,7) #5 and 6 we called as actual argument"
   ]
  },
  {
   "cell_type": "markdown",
   "id": "d13f86f2-b365-4acd-81d5-4dfc2c7b0c58",
   "metadata": {},
   "source": [
    "# Actual Arguemens are 4 types\n",
    "                       POSITION\n",
    "                       KEYWORD\n",
    "                       DEFAULT\n",
    "                       VARIABLE LENGTH       "
   ]
  },
  {
   "cell_type": "markdown",
   "id": "c5942cea-940e-42b8-8f96-9ea124b77c49",
   "metadata": {},
   "source": [
    "# Positional Arguement"
   ]
  },
  {
   "cell_type": "code",
   "execution_count": 19,
   "id": "0d25efa3-b934-4323-9531-82f7d5d01ded",
   "metadata": {},
   "outputs": [
    {
     "name": "stdout",
     "output_type": "stream",
     "text": [
      "Person's Name is Arati\n",
      "Person's age is 21\n"
     ]
    }
   ],
   "source": [
    "def person(name,age): # here we creat two formal arguments name and age\n",
    "    print(\"Person's Name is\",name)\n",
    "    print(\"Person's age is\",age)\n",
    "\n",
    "person('Arati',21)\n",
    "# this is called postion argument becuase name we assigned to position name to nit & age to 28"
   ]
  },
  {
   "cell_type": "code",
   "execution_count": 21,
   "id": "b0534561-97b4-4958-aa2b-19c8020345ff",
   "metadata": {},
   "outputs": [
    {
     "name": "stdout",
     "output_type": "stream",
     "text": [
      "The name : 21\n",
      "The age : Arati\n"
     ]
    }
   ],
   "source": [
    "def f1(name, age): # here we creat two formal arguments name and age\n",
    "    print(\"The name :\", name)\n",
    "    print('The age :', age)\n",
    "f1(21,\"Arati\") # in this case we cant assign name - 21 & age to 'Arati' then we can assign them as keyword \n",
    "# as we keep incorrect position this code trhoughs an error . so how to fix them \n",
    "# i dont want assign name - 20 & age to nit & in this case we will assing keyword"
   ]
  },
  {
   "cell_type": "code",
   "execution_count": 25,
   "id": "bbf91f1f-b16a-41a3-8861-596a15dedbc1",
   "metadata": {},
   "outputs": [
    {
     "ename": "TypeError",
     "evalue": "f1() missing 1 required positional argument: 'age'",
     "output_type": "error",
     "traceback": [
      "\u001b[1;31m---------------------------------------------------------------------------\u001b[0m",
      "\u001b[1;31mTypeError\u001b[0m                                 Traceback (most recent call last)",
      "Cell \u001b[1;32mIn[25], line 4\u001b[0m\n\u001b[0;32m      2\u001b[0m     \u001b[38;5;28mprint\u001b[39m(\u001b[38;5;124m\"\u001b[39m\u001b[38;5;124mThe name :\u001b[39m\u001b[38;5;124m\"\u001b[39m, name)\n\u001b[0;32m      3\u001b[0m     \u001b[38;5;28mprint\u001b[39m(\u001b[38;5;124m'\u001b[39m\u001b[38;5;124mThe age :\u001b[39m\u001b[38;5;124m'\u001b[39m, age)\n\u001b[1;32m----> 4\u001b[0m f1(\u001b[38;5;124m\"\u001b[39m\u001b[38;5;124mArati\u001b[39m\u001b[38;5;124m\"\u001b[39m)\n",
      "\u001b[1;31mTypeError\u001b[0m: f1() missing 1 required positional argument: 'age'"
     ]
    }
   ],
   "source": [
    "def f1(name, age): # here we creat two formal arguments name and age\n",
    "    print(\"The name :\", name)\n",
    "    print('The age :', age)\n",
    "f1(\"Arati\") # it need two actual arguements as we assigned 2 formal arguements thus it will through an positional error"
   ]
  },
  {
   "cell_type": "code",
   "execution_count": 29,
   "id": "0eefccb2-8fa8-4dfe-bc3a-04e17a447f0a",
   "metadata": {},
   "outputs": [
    {
     "name": "stdout",
     "output_type": "stream",
     "text": [
      "The name: Arati\n",
      "The age : 21\n"
     ]
    }
   ],
   "source": [
    "def f1(name, age=21): # here we give a value 23 to age\n",
    "    print(\"The name:\", name)\n",
    "    print('The age :', age)\n",
    "f1('Arati') # it work properly because age vale a defult value"
   ]
  },
  {
   "cell_type": "code",
   "execution_count": 30,
   "id": "167e8343-6719-443b-939e-e33b70be1a64",
   "metadata": {},
   "outputs": [
    {
     "name": "stdout",
     "output_type": "stream",
     "text": [
      "20\n"
     ]
    },
    {
     "ename": "TypeError",
     "evalue": "unsupported operand type(s) for -: 'str' and 'int'",
     "output_type": "error",
     "traceback": [
      "\u001b[1;31m---------------------------------------------------------------------------\u001b[0m",
      "\u001b[1;31mTypeError\u001b[0m                                 Traceback (most recent call last)",
      "Cell \u001b[1;32mIn[30], line 5\u001b[0m\n\u001b[0;32m      2\u001b[0m     \u001b[38;5;28mprint\u001b[39m(name)\n\u001b[0;32m      3\u001b[0m     \u001b[38;5;28mprint\u001b[39m(age\u001b[38;5;241m-\u001b[39m\u001b[38;5;241m5\u001b[39m)\n\u001b[1;32m----> 5\u001b[0m person(\u001b[38;5;241m20\u001b[39m,\u001b[38;5;124m'\u001b[39m\u001b[38;5;124mnit\u001b[39m\u001b[38;5;124m'\u001b[39m)\n",
      "Cell \u001b[1;32mIn[30], line 3\u001b[0m, in \u001b[0;36mperson\u001b[1;34m(name, age)\u001b[0m\n\u001b[0;32m      1\u001b[0m \u001b[38;5;28;01mdef\u001b[39;00m \u001b[38;5;21mperson\u001b[39m(name,age):\n\u001b[0;32m      2\u001b[0m     \u001b[38;5;28mprint\u001b[39m(name)\n\u001b[1;32m----> 3\u001b[0m     \u001b[38;5;28mprint\u001b[39m(age\u001b[38;5;241m-\u001b[39m\u001b[38;5;241m5\u001b[39m)\n",
      "\u001b[1;31mTypeError\u001b[0m: unsupported operand type(s) for -: 'str' and 'int'"
     ]
    }
   ],
   "source": [
    "def person(name,age):\n",
    "    print(name)\n",
    "    print(age-5)\n",
    "    \n",
    "person(20,'nit') \n",
    "# in this case we cant assign name - 20 & age to 'nit' then we can assign them as keyword \n",
    "# this code not give you error but output is in different format"
   ]
  },
  {
   "cell_type": "markdown",
   "id": "3994fc51-d73e-4140-b7e9-d544eca334c7",
   "metadata": {},
   "source": [
    "# Keyword arguments"
   ]
  },
  {
   "cell_type": "code",
   "execution_count": 34,
   "id": "ffe0afe9-ae14-49ce-958d-58fe8da24991",
   "metadata": {},
   "outputs": [
    {
     "name": "stdout",
     "output_type": "stream",
     "text": [
      "Persons's name: Arati\n",
      "Persons's age : 21\n",
      "The state is:  Odisha\n"
     ]
    }
   ],
   "source": [
    "def f(name, age,state):\n",
    "    print(\"Persons's name:\", name)\n",
    "    print(\"Persons's age :\", age)\n",
    "    print(\"The state is: \",state)\n",
    "f(state=\"Odisha\",name=\"Arati\",age=21) # here we pass according to the variable name so no positional error will occure"
   ]
  },
  {
   "cell_type": "code",
   "execution_count": 37,
   "id": "8dd6449f-2a4c-45b4-9866-891303bf59fa",
   "metadata": {},
   "outputs": [
    {
     "name": "stdout",
     "output_type": "stream",
     "text": [
      "The name: Arati\n",
      "The age : 21\n",
      "The state: odisha\n"
     ]
    }
   ],
   "source": [
    "def f1(name, age,state):\n",
    "    name=\"Arati\" # inside the function we change update the name\n",
    "    print(\"The name:\", name)\n",
    "    print('The age :', age)\n",
    "    print(\"The state:\",state)\n",
    "    \n",
    "f1(state=\"odisha\",name=\"Aru\",age=21) # here we pass a actual arguments as DK"
   ]
  },
  {
   "cell_type": "markdown",
   "id": "ed723582-c125-4283-b375-84e28831bd76",
   "metadata": {},
   "source": [
    "# Variable Length Arguments"
   ]
  },
  {
   "cell_type": "code",
   "execution_count": 42,
   "id": "d8ac147b-9208-4c36-98c4-c0e7c10b2b0e",
   "metadata": {},
   "outputs": [
    {
     "name": "stdout",
     "output_type": "stream",
     "text": [
      "the sum is : 9\n"
     ]
    }
   ],
   "source": [
    "def f(a,b):\n",
    "   c= a+b\n",
    "   print(\"the sum is :\", c)\n",
    "f(3,6)"
   ]
  },
  {
   "cell_type": "code",
   "execution_count": 43,
   "id": "fd2e0e57-8806-4215-94fd-ba91b2e527eb",
   "metadata": {},
   "outputs": [
    {
     "ename": "TypeError",
     "evalue": "unsupported operand type(s) for +: 'int' and 'tuple'",
     "output_type": "error",
     "traceback": [
      "\u001b[1;31m---------------------------------------------------------------------------\u001b[0m",
      "\u001b[1;31mTypeError\u001b[0m                                 Traceback (most recent call last)",
      "Cell \u001b[1;32mIn[43], line 5\u001b[0m\n\u001b[0;32m      3\u001b[0m     c\u001b[38;5;241m=\u001b[39m a\u001b[38;5;241m+\u001b[39mb\n\u001b[0;32m      4\u001b[0m     \u001b[38;5;28mprint\u001b[39m(\u001b[38;5;124m\"\u001b[39m\u001b[38;5;124mthe sum is:\u001b[39m\u001b[38;5;124m\"\u001b[39m, c)\n\u001b[1;32m----> 5\u001b[0m f1(\u001b[38;5;241m3\u001b[39m,\u001b[38;5;241m66\u001b[39m,\u001b[38;5;241m4\u001b[39m,\u001b[38;5;241m5\u001b[39m,\u001b[38;5;241m6\u001b[39m)\n",
      "Cell \u001b[1;32mIn[43], line 3\u001b[0m, in \u001b[0;36mf1\u001b[1;34m(a, *b)\u001b[0m\n\u001b[0;32m      2\u001b[0m \u001b[38;5;28;01mdef\u001b[39;00m \u001b[38;5;21mf1\u001b[39m(a, \u001b[38;5;241m*\u001b[39mb):\n\u001b[1;32m----> 3\u001b[0m     c\u001b[38;5;241m=\u001b[39m a\u001b[38;5;241m+\u001b[39mb\n\u001b[0;32m      4\u001b[0m     \u001b[38;5;28mprint\u001b[39m(\u001b[38;5;124m\"\u001b[39m\u001b[38;5;124mthe sum is:\u001b[39m\u001b[38;5;124m\"\u001b[39m, c)\n",
      "\u001b[1;31mTypeError\u001b[0m: unsupported operand type(s) for +: 'int' and 'tuple'"
     ]
    }
   ],
   "source": [
    "# we need to pass the more than two value in the function even we use only two formal arguments\n",
    "def f1(a, *b):\n",
    "    c= a+b\n",
    "    print(\"the sum is:\", c)\n",
    "f1(3,66,4,5,6) # here we get error because a=3, and rest value b=(66,4,5,6) behave as tuple"
   ]
  },
  {
   "cell_type": "code",
   "execution_count": 45,
   "id": "7b81c0f9-d886-4a9c-a9ce-197f55924f29",
   "metadata": {},
   "outputs": [
    {
     "name": "stdout",
     "output_type": "stream",
     "text": [
      "<class 'int'>\n",
      "<class 'tuple'>\n"
     ]
    }
   ],
   "source": [
    "def f1(a, *b): # Here first arg. is fixed and rest of the value consider as tuple\n",
    "    print(type(a)) # int\n",
    "    print(type(b)) # tuple\n",
    "f1(3,66,4,5,6)"
   ]
  },
  {
   "cell_type": "code",
   "execution_count": 46,
   "id": "cbe8f2f5-b5e9-404c-a54a-80fdc681b376",
   "metadata": {},
   "outputs": [
    {
     "name": "stdout",
     "output_type": "stream",
     "text": [
      "11\n",
      "18\n",
      "26\n",
      "35\n",
      "45\n"
     ]
    }
   ],
   "source": [
    "# to acces the value of the tuple we need to apply the for loop\n",
    "def f(a, *b):\n",
    "    for i in b:\n",
    "        a=a+i\n",
    "        print(a)\n",
    "\n",
    "f(5,6,7,8,9,10) "
   ]
  },
  {
   "cell_type": "code",
   "execution_count": 47,
   "id": "4d9946d9-2447-4d4b-8502-3f39dde0b5d1",
   "metadata": {},
   "outputs": [
    {
     "name": "stdout",
     "output_type": "stream",
     "text": [
      "The Sum is:  45\n"
     ]
    }
   ],
   "source": [
    "def f(a,*b):\n",
    "    for i in b:\n",
    "        a=a+i\n",
    "    print(\"The Sum is: \",a)\n",
    "\n",
    "f(4,5,6,7,8,9,0,1,2,3)"
   ]
  },
  {
   "cell_type": "markdown",
   "id": "626b8458-82ae-46db-9010-9680c9b897c3",
   "metadata": {},
   "source": [
    "# Keyword variable length arguments\n",
    "#      KWARGs (key worded variable length arguments)"
   ]
  },
  {
   "cell_type": "code",
   "execution_count": 48,
   "id": "1595bdff-8635-4e2c-b88b-d63834aabebe",
   "metadata": {},
   "outputs": [
    {
     "ename": "TypeError",
     "evalue": "fun() got an unexpected keyword argument 'salary'",
     "output_type": "error",
     "traceback": [
      "\u001b[1;31m---------------------------------------------------------------------------\u001b[0m",
      "\u001b[1;31mTypeError\u001b[0m                                 Traceback (most recent call last)",
      "Cell \u001b[1;32mIn[48], line 4\u001b[0m\n\u001b[0;32m      2\u001b[0m     \u001b[38;5;28mprint\u001b[39m(\u001b[38;5;124m\"\u001b[39m\u001b[38;5;124mName:\u001b[39m\u001b[38;5;124m\"\u001b[39m,name)\n\u001b[0;32m      3\u001b[0m     \u001b[38;5;28mprint\u001b[39m(data) \u001b[38;5;66;03m# here first arguments is fixed and rest of all taken as a dictionary\u001b[39;00m\n\u001b[1;32m----> 4\u001b[0m fun(\u001b[38;5;124m\"\u001b[39m\u001b[38;5;124mArati\u001b[39m\u001b[38;5;124m\"\u001b[39m, salary\u001b[38;5;241m=\u001b[39m\u001b[38;5;241m80000\u001b[39m,designation\u001b[38;5;241m=\u001b[39m\u001b[38;5;124m\"\u001b[39m\u001b[38;5;124m Data science\u001b[39m\u001b[38;5;124m\"\u001b[39m)\n",
      "\u001b[1;31mTypeError\u001b[0m: fun() got an unexpected keyword argument 'salary'"
     ]
    }
   ],
   "source": [
    "def fun(name,*data): # we get error to avoide the eror we need to apply double **\n",
    "    print(\"Name:\",name)\n",
    "    print(data) # here first arguments is fixed and rest of all taken as a dictionary\n",
    "fun(\"Arati\", salary=80000,designation=\" Data science\")"
   ]
  },
  {
   "cell_type": "code",
   "execution_count": 49,
   "id": "f4523fa4-cc6b-4700-bfae-cdd51a642b0e",
   "metadata": {},
   "outputs": [
    {
     "name": "stdout",
     "output_type": "stream",
     "text": [
      "Name: Arati\n",
      "{'salary': 80000, 'designation': 'Data science'}\n"
     ]
    }
   ],
   "source": [
    "def f1(name,**data): # we get error to avoide the eror we need to apply double **\n",
    "    print(\"Name:\",name)\n",
    "    print(data)\n",
    "f1(\"Arati\", salary=80000,designation=\"Data science\")"
   ]
  },
  {
   "cell_type": "code",
   "execution_count": 50,
   "id": "2f00e4e7-790e-4cd5-a070-432950a44d8b",
   "metadata": {},
   "outputs": [
    {
     "name": "stdout",
     "output_type": "stream",
     "text": [
      "<class 'str'>\n",
      "<class 'dict'>\n"
     ]
    }
   ],
   "source": [
    "def f1(name,**data): # we get error to avoide the eror we need to apply double **\n",
    "    print(type(name)) # string\n",
    "    print(type(data)) # dictionary\n",
    "f1(\"Arati\", salary=80000,designation=\" Data science\")"
   ]
  },
  {
   "cell_type": "code",
   "execution_count": 51,
   "id": "6ef1a1dd-17db-43d8-8a2c-8cddec00621c",
   "metadata": {},
   "outputs": [
    {
     "name": "stdout",
     "output_type": "stream",
     "text": [
      "Name: Arati\n",
      "{'salary': 80000, 'designation': ' Data science', 'home_town': 'Odisha', 'education': 'B.Tech'}\n"
     ]
    }
   ],
   "source": [
    "def f1(name,**data): # even we adding more data to it we can get access\n",
    "    print(\"Name:\",name)\n",
    "    print(data)\n",
    "f1(\"Arati\", salary=80000,designation=\" Data science\", home_town=\"Odisha\",education='B.Tech')"
   ]
  },
  {
   "cell_type": "code",
   "execution_count": 53,
   "id": "fc2147e1-ff4a-4376-9fb3-0f9bfb276d78",
   "metadata": {},
   "outputs": [
    {
     "name": "stdout",
     "output_type": "stream",
     "text": [
      "Name : Arati\n",
      "Salary : 80000\n",
      "Designation :  Data science\n",
      "Home_town : Odisha\n",
      "Education : B.Tech\n"
     ]
    }
   ],
   "source": [
    "# as except the first data all are turned to dictionary we can access by using for loop\n",
    "def f1(name,**data):\n",
    "    print(\"Name :\",name)\n",
    "    for i,j in data.items():\n",
    "        print(i,\":\",j)\n",
    "f1(\"Arati\", Salary=80000,Designation=\" Data science\", Home_town=\"Odisha\",Education='B.Tech')"
   ]
  },
  {
   "cell_type": "markdown",
   "id": "f2884ad7-0403-4f45-9858-b8876d157e65",
   "metadata": {},
   "source": [
    "# GLOBAL VARIBALE & LOCAL VARIABLE"
   ]
  },
  {
   "cell_type": "markdown",
   "id": "6d4f5ecb-1833-49aa-b981-fea2dba6203d",
   "metadata": {},
   "source": [
    "# Global variable\n",
    "\n",
    "## It's a variable which are declar out side the function is called global variable\n",
    "## The global variable we can use anywhere in the program both inside and out side the function"
   ]
  },
  {
   "cell_type": "code",
   "execution_count": 57,
   "id": "1c7d3ead-261b-468e-a88c-4dd034f8e47f",
   "metadata": {},
   "outputs": [
    {
     "name": "stdout",
     "output_type": "stream",
     "text": [
      "The value inside function: 1\n",
      "it works..\n",
      "\n",
      "The value Outside the function: 1\n"
     ]
    }
   ],
   "source": [
    "a=1 # global variable\n",
    "def v1():\n",
    "    print(\"The value inside function:\",a) # same variable call inside the function\n",
    "    print(\"it works..\")\n",
    "v1() # calling the function\n",
    "print()\n",
    "print(\"The value Outside the function:\",a) # same variable call outside the function"
   ]
  },
  {
   "cell_type": "markdown",
   "id": "f3418c38-00e6-40b4-b793-7d89dbdc5791",
   "metadata": {},
   "source": [
    "# Local Variale\n",
    "   The local variable we can declar inside the function\n",
    "    The scope the the variable in valid till the scope of the function\n",
    "    only we can use the local variable inside the function outside the function we cannot accesss the local vaiable"
   ]
  },
  {
   "cell_type": "code",
   "execution_count": 58,
   "id": "7bef67db-920f-468c-9a86-a72d04df51b4",
   "metadata": {},
   "outputs": [
    {
     "name": "stdout",
     "output_type": "stream",
     "text": [
      "The value inside function: 1\n",
      "it works..\n"
     ]
    }
   ],
   "source": [
    "def fun():\n",
    "    a=4 # local variable\n",
    "    print(\"The value inside function:\",a) # same variable call inside the function\n",
    "    print(\"it works..\")\n",
    "v1() # calling the function"
   ]
  },
  {
   "cell_type": "code",
   "execution_count": 60,
   "id": "b5e40416-dacd-4e10-a060-034e52612810",
   "metadata": {},
   "outputs": [
    {
     "name": "stdout",
     "output_type": "stream",
     "text": [
      "The value inside function:- 1\n",
      "it works..\n",
      "\n"
     ]
    },
    {
     "ename": "NameError",
     "evalue": "name 'b' is not defined",
     "output_type": "error",
     "traceback": [
      "\u001b[1;31m---------------------------------------------------------------------------\u001b[0m",
      "\u001b[1;31mNameError\u001b[0m                                 Traceback (most recent call last)",
      "Cell \u001b[1;32mIn[60], line 7\u001b[0m\n\u001b[0;32m      5\u001b[0m v1() \u001b[38;5;66;03m# calling the function\u001b[39;00m\n\u001b[0;32m      6\u001b[0m \u001b[38;5;28mprint\u001b[39m()\n\u001b[1;32m----> 7\u001b[0m \u001b[38;5;28mprint\u001b[39m(\u001b[38;5;124m\"\u001b[39m\u001b[38;5;124mThe value Outside the function:-\u001b[39m\u001b[38;5;124m\"\u001b[39m,b)\n",
      "\u001b[1;31mNameError\u001b[0m: name 'b' is not defined"
     ]
    }
   ],
   "source": [
    "def v1():\n",
    "    b=453 # local variable\n",
    "    print(\"The value inside function:-\",a) # same variable call inside the function\n",
    "    print(\"it works..\")\n",
    "v1() # calling the function\n",
    "print()\n",
    "print(\"The value Outside the function:-\",b) # same variable call outside the function\n",
    "# in this code we get error because we use the local variable inside the function and try to call outside the function"
   ]
  },
  {
   "cell_type": "code",
   "execution_count": 61,
   "id": "899b4e43-17b4-40ef-a3ac-04657931043f",
   "metadata": {},
   "outputs": [
    {
     "name": "stdout",
     "output_type": "stream",
     "text": [
      "out function 10\n"
     ]
    }
   ],
   "source": [
    "a = 10  \n",
    "\n",
    "def something():\n",
    "    b = 15\n",
    "    print('in function',b)    \n",
    "    \n",
    "print('out function',a)    \n",
    "\n",
    "    # in this code we are declaring 2 variable is this possible\n",
    "    # first line of a is called outside of the function \n",
    "    # inside the function is called local variable  "
   ]
  },
  {
   "cell_type": "code",
   "execution_count": 62,
   "id": "8bc9fa26-e5d4-4e55-90fc-565fab99aa5a",
   "metadata": {},
   "outputs": [
    {
     "name": "stdout",
     "output_type": "stream",
     "text": [
      "in function 10\n",
      "out function 10\n"
     ]
    }
   ],
   "source": [
    "a = 10  \n",
    "\n",
    "def something():\n",
    "    a = 15\n",
    "    \n",
    "print('in function',a) \n",
    "  \n",
    "print('out function',a)\n",
    "    \n",
    "    # in this code we are declaring 2 variable is this possible\n",
    "    # first line of a is called outside of the function \n",
    "    # inside the function is called local variable   "
   ]
  },
  {
   "cell_type": "code",
   "execution_count": 65,
   "id": "7bd64f7c-4e48-42d7-893f-5e92003e99bf",
   "metadata": {},
   "outputs": [
    {
     "ename": "NameError",
     "evalue": "name 'b' is not defined",
     "output_type": "error",
     "traceback": [
      "\u001b[1;31m---------------------------------------------------------------------------\u001b[0m",
      "\u001b[1;31mNameError\u001b[0m                                 Traceback (most recent call last)",
      "Cell \u001b[1;32mIn[65], line 8\u001b[0m\n\u001b[0;32m      5\u001b[0m     b \u001b[38;5;241m=\u001b[39m \u001b[38;5;241m8\u001b[39m\n\u001b[0;32m      6\u001b[0m     \u001b[38;5;28mprint\u001b[39m(a)\n\u001b[1;32m----> 8\u001b[0m \u001b[38;5;28mprint\u001b[39m(b)\n\u001b[0;32m      9\u001b[0m \u001b[38;5;28mprint\u001b[39m(a)\n",
      "\u001b[1;31mNameError\u001b[0m: name 'b' is not defined"
     ]
    }
   ],
   "source": [
    "a = 10  \n",
    "\n",
    "def something():\n",
    "    a = 15  #hear a is local variable \n",
    "    b = 8\n",
    "    print(a)\n",
    "    \n",
    "print(b)\n",
    "print(a)"
   ]
  },
  {
   "cell_type": "code",
   "execution_count": 66,
   "id": "6b63d3a1-eefd-4fa5-9f78-3123836a7714",
   "metadata": {},
   "outputs": [
    {
     "name": "stdout",
     "output_type": "stream",
     "text": [
      "10\n"
     ]
    }
   ],
   "source": [
    "a = 10  \n",
    "\n",
    "def something():\n",
    "    a = 15  #hear a is local variable \n",
    "    print(a)\n",
    "    \n",
    "print(a)"
   ]
  },
  {
   "cell_type": "code",
   "execution_count": 67,
   "id": "9f7d4d87-e674-4878-9617-b8a045b81a5d",
   "metadata": {},
   "outputs": [
    {
     "name": "stdout",
     "output_type": "stream",
     "text": [
      "out function 10\n"
     ]
    }
   ],
   "source": [
    "a = 10  \n",
    "\n",
    "def something():\n",
    "    a = 15\n",
    "    print('in function',a)  # local variable\n",
    "    \n",
    "print('out function',a) #gloabl variable\n",
    "\n",
    "# In this code we ddint call the function "
   ]
  },
  {
   "cell_type": "code",
   "execution_count": 68,
   "id": "1b5f9d51-1e6f-4c2a-90fc-c029a4026b6e",
   "metadata": {},
   "outputs": [
    {
     "name": "stdout",
     "output_type": "stream",
     "text": [
      "in function 15\n",
      "out function 10\n"
     ]
    }
   ],
   "source": [
    "a = 10  \n",
    "\n",
    "def something():\n",
    "    b = 15\n",
    "    print('in function',b)  # local variable\n",
    " \n",
    "something()\n",
    "\n",
    "print('out function',a) #gloabl variable\n",
    "\n",
    "# 1st preference is always local variable "
   ]
  },
  {
   "cell_type": "code",
   "execution_count": 69,
   "id": "d3b77cab-3b32-4224-9495-09e951dd1742",
   "metadata": {},
   "outputs": [
    {
     "name": "stdout",
     "output_type": "stream",
     "text": [
      "in function 10\n",
      "out function 10\n"
     ]
    }
   ],
   "source": [
    "a = 10  \n",
    "\n",
    "def something():\n",
    "    #if we remove this variable then can befault it consider as global variable\n",
    "    print('in function',a)\n",
    "    \n",
    "something()\n",
    "print('out function',a)\n",
    "# if we dont assign any variabel inside the functin bydefault both considerd as local variable"
   ]
  },
  {
   "cell_type": "code",
   "execution_count": 70,
   "id": "e52ff163-af5f-4838-91e7-e4bb3452166f",
   "metadata": {},
   "outputs": [
    {
     "name": "stdout",
     "output_type": "stream",
     "text": [
      "in function 25\n",
      "out function 10\n"
     ]
    }
   ],
   "source": [
    "a = 10  \n",
    "\n",
    "def something():\n",
    "    b= 25\n",
    "    #if we remove this variable then can befault it consider as global variable\n",
    "    print('in function',b)\n",
    "    \n",
    "something()\n",
    "print('out function',a)\n",
    "# if we dont assign any variabel inside the functin bydefault both considerd as local variable\n"
   ]
  },
  {
   "cell_type": "code",
   "execution_count": 71,
   "id": "9e6d4a75-d442-4de8-b12d-9a49e0ac651b",
   "metadata": {},
   "outputs": [
    {
     "name": "stdout",
     "output_type": "stream",
     "text": [
      "in function 15\n",
      "gloabl variable 10\n",
      "out function 10\n"
     ]
    }
   ],
   "source": [
    "# if i want to define global variabel inside the function \n",
    "\n",
    "a = 10  \n",
    "\n",
    "def something():\n",
    "    global a \n",
    "    b = 15 # 15 is converted to local when user assigned global a \n",
    "    print('in function',b)\n",
    "    print('gloabl variable', a)\n",
    "    \n",
    "something()\n",
    "print('out function',a)\n",
    "\n",
    "# now in this case we dont have local variable & all variables are global variable only\n",
    "# so this is how we are assigned to local variabel & global variable"
   ]
  },
  {
   "cell_type": "code",
   "execution_count": 72,
   "id": "d9521423-1072-4174-9876-4b012eab7b62",
   "metadata": {},
   "outputs": [
    {
     "data": {
      "text/plain": [
       "['False',\n",
       " 'None',\n",
       " 'True',\n",
       " 'and',\n",
       " 'as',\n",
       " 'assert',\n",
       " 'async',\n",
       " 'await',\n",
       " 'break',\n",
       " 'class',\n",
       " 'continue',\n",
       " 'def',\n",
       " 'del',\n",
       " 'elif',\n",
       " 'else',\n",
       " 'except',\n",
       " 'finally',\n",
       " 'for',\n",
       " 'from',\n",
       " 'global',\n",
       " 'if',\n",
       " 'import',\n",
       " 'in',\n",
       " 'is',\n",
       " 'lambda',\n",
       " 'nonlocal',\n",
       " 'not',\n",
       " 'or',\n",
       " 'pass',\n",
       " 'raise',\n",
       " 'return',\n",
       " 'try',\n",
       " 'while',\n",
       " 'with',\n",
       " 'yield']"
      ]
     },
     "execution_count": 72,
     "metadata": {},
     "output_type": "execute_result"
    }
   ],
   "source": [
    "import keyword\n",
    "keyword.kwlist"
   ]
  },
  {
   "cell_type": "code",
   "execution_count": 73,
   "id": "562a0cc6-a3ce-435b-a1d9-aa23e1234ccd",
   "metadata": {},
   "outputs": [
    {
     "name": "stdout",
     "output_type": "stream",
     "text": [
      "140731635153624\n",
      "140731635153624\n",
      "in function 9\n",
      "out function 10\n"
     ]
    }
   ],
   "source": [
    "# if we used local & global in the same function this is not good idea thats wy introduced to GLOBALS\n",
    "\n",
    "a = 10  \n",
    "print(id(a))\n",
    "\n",
    "def something():\n",
    "    a = 9\n",
    "    x = globals()['a'] #gloabls can give you all the gloabls \n",
    "    \n",
    "    print(id(x))\n",
    "    print('in function',a)\n",
    "    \n",
    "        \n",
    "something()\n",
    "print('out function',a)"
   ]
  },
  {
   "cell_type": "markdown",
   "id": "ab16a69e-c005-42c1-b663-40ce92605e0a",
   "metadata": {},
   "source": [
    "# global variable --\n",
    "The global keyword is used inside a function to indicate that a variable refers to a global variable, not a local one."
   ]
  },
  {
   "cell_type": "code",
   "execution_count": 74,
   "id": "1dc9dab6-90c5-458b-91b6-7a3c7704bf87",
   "metadata": {},
   "outputs": [
    {
     "name": "stdout",
     "output_type": "stream",
     "text": [
      "15\n"
     ]
    }
   ],
   "source": [
    "x = 10  # Global variable\n",
    "\n",
    "def update_x():\n",
    "    global x  # Declare that we are using the global variable x\n",
    "    x += 5    # Modify the global variable\n",
    "\n",
    "update_x()\n",
    "print(x)  # Output: 15"
   ]
  },
  {
   "cell_type": "markdown",
   "id": "c1cce542-f2c8-4aa1-98ac-b73eb09c7bbb",
   "metadata": {},
   "source": [
    "# globals -->\n",
    "globals() is a built-in function that returns a dictionary representing the current global symbol table. It allows you to access and modify global variables programmatically."
   ]
  },
  {
   "cell_type": "code",
   "execution_count": 75,
   "id": "49c31e38-20d2-4d28-8097-5b81ca198096",
   "metadata": {},
   "outputs": [
    {
     "name": "stdout",
     "output_type": "stream",
     "text": [
      "15\n"
     ]
    }
   ],
   "source": [
    "x = 10  # Global variable\n",
    "\n",
    "def update_x():\n",
    "    globals()['x'] += 5  # Access and modify the global variable using the dictionary\n",
    "\n",
    "update_x()\n",
    "print(x)  # Output: 15\n"
   ]
  },
  {
   "cell_type": "code",
   "execution_count": 76,
   "id": "171eece2-f4c0-46e3-91ad-d190160cfb10",
   "metadata": {},
   "outputs": [
    {
     "name": "stdout",
     "output_type": "stream",
     "text": [
      "Original x: 10\n",
      "Modified x: 20\n",
      "Global x after modification: 20\n"
     ]
    }
   ],
   "source": [
    "# Global variable\n",
    "x = 10\n",
    "def modify_global():\n",
    "    # Accessing the global variable\n",
    "    print(\"Original x:\", globals()['x'])\n",
    "# Modifying the global variable\n",
    "    globals()['x'] = 20\n",
    "    print(\"Modified x:\", globals()['x'])\n",
    "modify_global()\n",
    "# Accessing the modified global variable\n",
    "print(\"Global x after modification:\", x)"
   ]
  },
  {
   "cell_type": "markdown",
   "id": "9a835569-681b-470a-864f-8491a82c8fac",
   "metadata": {},
   "source": [
    "# Some program\n"
   ]
  },
  {
   "cell_type": "markdown",
   "id": "377b969e-9813-4a1a-8478-5f7300562bda",
   "metadata": {},
   "source": [
    "# 1.Pass a list to the function count how many even and how many odd number in the list\n"
   ]
  },
  {
   "cell_type": "code",
   "execution_count": 78,
   "id": "6414ac70-988f-462c-992c-d3a9052a83ed",
   "metadata": {},
   "outputs": [
    {
     "name": "stdout",
     "output_type": "stream",
     "text": [
      "The even number :- 6\n",
      "The odd number:- 5\n",
      "*************************************\n",
      "The even number: 6 \n",
      "The odd number: 5\n",
      "**************************************\n",
      "The even number: 6 \n",
      "The odd number: 5\n"
     ]
    }
   ],
   "source": [
    "def even_odd(list1):\n",
    "    \n",
    "    even=0\n",
    "    odd=0\n",
    "    for i in list:\n",
    "        if i % 2 ==0:\n",
    "            even +=1\n",
    "        else:\n",
    "            odd +=1\n",
    "\n",
    "list=[1,2,45,66,54,56,78,99,0,33,43]\n",
    "even_odd(list)\n",
    "print(\"The even number :-\",even)\n",
    "print('The odd number:-',odd)\n",
    "print(\"*************************************\")\n",
    "print('The even number: {} \\nThe odd number: {}'.format(even,odd)) # we can use this type to print using format()\n",
    "print(\"**************************************\")\n",
    "print(f\"The even number: {even} \\nThe odd number: {odd}\") # we can print using f-string"
   ]
  },
  {
   "cell_type": "markdown",
   "id": "ca9bcbc1-5a79-4af3-b606-e4db35148d27",
   "metadata": {},
   "source": [
    "# FIBONACCI SERIES IN PYTHON"
   ]
  },
  {
   "cell_type": "code",
   "execution_count": 79,
   "id": "95abc6b2-fcaa-4017-8b27-c53f07e75bdb",
   "metadata": {},
   "outputs": [
    {
     "name": "stdout",
     "output_type": "stream",
     "text": [
      "0\n",
      "1\n",
      "1\n",
      "2\n",
      "3\n"
     ]
    }
   ],
   "source": [
    "# in progammin we need to continue these process thats why we need to use loop hear\n",
    "\n",
    "def fib(n):\n",
    "    a = 0\n",
    "    b = 1\n",
    "    \n",
    "    print(a)\n",
    "    print(b)\n",
    "    \n",
    "    for i in range(2, n):\n",
    "        c = a + b\n",
    "        a = b\n",
    "        b = c\n",
    "        \n",
    "        print(c)\n",
    "        \n",
    "fib(5)"
   ]
  },
  {
   "cell_type": "markdown",
   "id": "80f3de80-dcc5-4464-972d-35899beb7a9c",
   "metadata": {},
   "source": [
    "# FACTORIAL NUMBER"
   ]
  },
  {
   "cell_type": "code",
   "execution_count": null,
   "id": "4222d2ae-2238-47f1-97df-30e51824714f",
   "metadata": {},
   "outputs": [],
   "source": []
  },
  {
   "cell_type": "code",
   "execution_count": null,
   "id": "514ad5c1-bece-43d6-96b6-2ee20db13d88",
   "metadata": {},
   "outputs": [],
   "source": []
  }
 ],
 "metadata": {
  "kernelspec": {
   "display_name": "Python 3 (ipykernel)",
   "language": "python",
   "name": "python3"
  },
  "language_info": {
   "codemirror_mode": {
    "name": "ipython",
    "version": 3
   },
   "file_extension": ".py",
   "mimetype": "text/x-python",
   "name": "python",
   "nbconvert_exporter": "python",
   "pygments_lexer": "ipython3",
   "version": "3.12.4"
  }
 },
 "nbformat": 4,
 "nbformat_minor": 5
}
